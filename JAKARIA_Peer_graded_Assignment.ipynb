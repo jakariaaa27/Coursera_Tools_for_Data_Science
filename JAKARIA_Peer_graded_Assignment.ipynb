{
  "nbformat": 4,
  "nbformat_minor": 0,
  "metadata": {
    "colab": {
      "provenance": [],
      "authorship_tag": "ABX9TyPj8boQSiRoF06YwphB+2dB",
      "include_colab_link": true
    },
    "kernelspec": {
      "name": "python3",
      "display_name": "Python 3"
    },
    "language_info": {
      "name": "python"
    }
  },
  "cells": [
    {
      "cell_type": "markdown",
      "metadata": {
        "id": "view-in-github",
        "colab_type": "text"
      },
      "source": [
        "<a href=\"https://colab.research.google.com/github/jakariaaa27/Coursera_Tools_for_Data_Science/blob/main/JAKARIA_Peer_graded_Assignment.ipynb\" target=\"_parent\"><img src=\"https://colab.research.google.com/assets/colab-badge.svg\" alt=\"Open In Colab\"/></a>"
      ]
    },
    {
      "cell_type": "markdown",
      "source": [
        "Exercise 2: Create a Markdown Cell with the Title of the Notebook\n",
        "# JAKARIA_Peer-graded Assignment"
      ],
      "metadata": {
        "id": "gL3b70j06gyI"
      }
    },
    {
      "cell_type": "markdown",
      "source": [
        "Exercise 3: Create a Markdown Cell for an Introduction\n",
        "\n",
        "## Introduction\n",
        "This notebook explores the fundamentals of data science, including languages, libraries, tools, and basic arithmetic operations. It's designed for beginners interested in data science.\n"
      ],
      "metadata": {
        "id": "pwa1Agmu6tf0"
      }
    },
    {
      "cell_type": "markdown",
      "source": [
        "Exercise 4: Create a Markdown Cell to List Data Science Languages\n",
        "\n",
        "## Data Science Languages\n",
        "- Python\n",
        "- R\n",
        "- SQL\n",
        "- Julia\n"
      ],
      "metadata": {
        "id": "7y6vqbLB7D1t"
      }
    },
    {
      "cell_type": "markdown",
      "source": [
        "Exercise 5: Create a Markdown Cell to List Data Science Libraries\n",
        "## Data Science Libraries\n",
        "- Pandas (Python)\n",
        "- NumPy (Python)\n",
        "- TensorFlow (Python)\n",
        "- ggplot2 (R)\n"
      ],
      "metadata": {
        "id": "spf8sxIJ7KNX"
      }
    },
    {
      "cell_type": "markdown",
      "source": [
        "Exercise 6: Create a Markdown Cell with a Table of Data Science Tools\n",
        "## Data Science Tools\n",
        "\n",
        "| Tool         | Type             | Description                              |\n",
        "|--------------|------------------|------------------------------------------|\n",
        "| Jupyter      | IDE              | Interactive development environment     |\n",
        "| TensorFlow   | Library (Python) | Machine learning and neural networks    |\n",
        "| ggplot2      | Library (R)      | Data visualization                       |\n",
        "| SQL          | Language         | Database management                      |\n",
        "\n"
      ],
      "metadata": {
        "id": "D1Ydt9897R8F"
      }
    },
    {
      "cell_type": "markdown",
      "source": [
        "Exercise 7: Create a Markdown Cell Introducing Arithmetic Expression Examples\n",
        "## Arithmetic Expression Examples\n",
        "In data science, arithmetic expressions are used for calculations. Examples include addition, subtraction, multiplication, and division.\n"
      ],
      "metadata": {
        "id": "6n0EErr67X4V"
      }
    },
    {
      "cell_type": "code",
      "source": [
        "#Exercise 8: Create a Code Cell to Multiply and Add Numbers\n",
        "\n",
        "# Multiply and add numbers\n",
        "result = (3 * 10) + (5 + 2)\n",
        "print(result)\n"
      ],
      "metadata": {
        "colab": {
          "base_uri": "https://localhost:8080/"
        },
        "id": "k9PB2I6B7lY-",
        "outputId": "62654f9c-88b1-4573-cdaf-1f2c0db2a3f4"
      },
      "execution_count": 1,
      "outputs": [
        {
          "output_type": "stream",
          "name": "stdout",
          "text": [
            "37\n"
          ]
        }
      ]
    },
    {
      "cell_type": "code",
      "source": [
        "#Exercise 9: Create a Code Cell to Convert Minutes to Hours\n",
        "\n",
        "# Convert minutes to hours\n",
        "minutes = 120\n",
        "hours = minutes / 60\n",
        "print(f\"{minutes} minutes is equal to {hours} hours.\")\n"
      ],
      "metadata": {
        "colab": {
          "base_uri": "https://localhost:8080/"
        },
        "id": "IytJYRHm7vdI",
        "outputId": "3be42ff8-8f9c-4532-b05e-215f44a603a6"
      },
      "execution_count": 2,
      "outputs": [
        {
          "output_type": "stream",
          "name": "stdout",
          "text": [
            "120 minutes is equal to 2.0 hours.\n"
          ]
        }
      ]
    },
    {
      "cell_type": "markdown",
      "source": [
        "Exercise 10: Insert a Markdown Cell to List Objectives\n",
        "## Objectives\n",
        "1. Understand basic data science concepts.\n",
        "2. Learn about data science languages and libraries.\n",
        "3. Perform simple arithmetic operations.\n"
      ],
      "metadata": {
        "id": "6e64HShD71zD"
      }
    },
    {
      "cell_type": "markdown",
      "source": [
        "## Author\n",
        "- Jakaria\n"
      ],
      "metadata": {
        "id": "DU3BkDdI759k"
      }
    }
  ]
}